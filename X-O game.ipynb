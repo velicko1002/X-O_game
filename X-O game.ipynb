{
 "cells": [
  {
   "cell_type": "code",
   "execution_count": 2,
   "id": "a42d9170",
   "metadata": {},
   "outputs": [],
   "source": [
    "# TABLA\n",
    "from IPython.display import clear_output\n",
    "\n",
    "def play_board(board):\n",
    "    clear_output()\n",
    "    print(board[7]+'|'+board[8]+'|'+board[9])\n",
    "    print(board[4]+'|'+board[5]+'|'+board[6])\n",
    "    print(board[1]+'|'+board[2]+'|'+board[3])"
   ]
  },
  {
   "cell_type": "code",
   "execution_count": 3,
   "id": "53e35ce6",
   "metadata": {},
   "outputs": [
    {
     "name": "stdout",
     "output_type": "stream",
     "text": [
      "O|X|O\n",
      " |X|X\n",
      "X|O|X\n"
     ]
    }
   ],
   "source": [
    "test_board = [\"#\",'X','O','X',' ','X','X','O','X','O']\n",
    "\n",
    "play_board(test_board)"
   ]
  },
  {
   "cell_type": "code",
   "execution_count": 4,
   "id": "9b8ddc02",
   "metadata": {},
   "outputs": [],
   "source": [
    "# BIRANJE X ILI O\n",
    "def player_input():\n",
    "    marker = ''\n",
    "    while marker != 'X' and marker != 'O':\n",
    "        marker = input('Player 1 do you want to be X or O? ').upper()\n",
    "        \n",
    "    if marker == \"X\":\n",
    "        return ('X','O')\n",
    "    else:\n",
    "        return ('O','X')\n",
    "    "
   ]
  },
  {
   "cell_type": "code",
   "execution_count": 4,
   "id": "de7acda9",
   "metadata": {},
   "outputs": [
    {
     "name": "stdout",
     "output_type": "stream",
     "text": [
      "Player 1 do you want to be X or O? x\n"
     ]
    },
    {
     "data": {
      "text/plain": [
       "('X', 'O')"
      ]
     },
     "execution_count": 4,
     "metadata": {},
     "output_type": "execute_result"
    }
   ],
   "source": [
    "player_input()\n"
   ]
  },
  {
   "cell_type": "code",
   "execution_count": 5,
   "id": "8b29e4a0",
   "metadata": {},
   "outputs": [],
   "source": [
    "# PROMENA NA TABLI\n",
    "def place_marker(board,marker,position):\n",
    "    board[position]=marker"
   ]
  },
  {
   "cell_type": "code",
   "execution_count": 6,
   "id": "e767ba5a",
   "metadata": {},
   "outputs": [
    {
     "name": "stdout",
     "output_type": "stream",
     "text": [
      "O|X|O\n",
      "X|X|X\n",
      "X|O|X\n"
     ]
    }
   ],
   "source": [
    "place_marker(test_board,' ',0)\n",
    "play_board(test_board)"
   ]
  },
  {
   "cell_type": "code",
   "execution_count": 6,
   "id": "f6a50416",
   "metadata": {},
   "outputs": [],
   "source": [
    "# CEKIRANJE POBEDE\n",
    "def win_check(board,mark):\n",
    "    return ((board[1]==board[2]==board[3]==mark) or\n",
    "    (board[4]==board[5]==board[6]==mark) or\n",
    "    (board[7]==board[8]==board[9]==mark) or\n",
    "    (board[7]==board[4]==board[1]==mark) or\n",
    "    (board[2]==board[5]==board[8]==mark) or\n",
    "    (board[3]==board[6]==board[9]==mark) or\n",
    "    (board[7]==board[5]==board[3]==mark) or\n",
    "    (board[9]==board[2]==board[1]==mark))\n"
   ]
  },
  {
   "cell_type": "code",
   "execution_count": 8,
   "id": "8ed0dc95",
   "metadata": {},
   "outputs": [
    {
     "data": {
      "text/plain": [
       "False"
      ]
     },
     "execution_count": 8,
     "metadata": {},
     "output_type": "execute_result"
    }
   ],
   "source": [
    "win_check(test_board, 'O')"
   ]
  },
  {
   "cell_type": "code",
   "execution_count": 7,
   "id": "31d3a074",
   "metadata": {},
   "outputs": [],
   "source": [
    "# KO IDE PRVI\n",
    "import random\n",
    "\n",
    "def who_goes_1st():\n",
    "    if random.randint(0,1) == 0:\n",
    "        return 'Player 1'\n",
    "    else:\n",
    "        return 'Player 2'\n"
   ]
  },
  {
   "cell_type": "code",
   "execution_count": 10,
   "id": "e465b383",
   "metadata": {},
   "outputs": [
    {
     "data": {
      "text/plain": [
       "'Player 1'"
      ]
     },
     "execution_count": 10,
     "metadata": {},
     "output_type": "execute_result"
    }
   ],
   "source": [
    "who_goes_1st()"
   ]
  },
  {
   "cell_type": "code",
   "execution_count": 8,
   "id": "777bdc0a",
   "metadata": {},
   "outputs": [],
   "source": [
    "# DA LI JE POLJE SLOBODNO\n",
    "def free_space(board, position):\n",
    "    return board[position] == ' '\n",
    "        "
   ]
  },
  {
   "cell_type": "code",
   "execution_count": 12,
   "id": "a5679e61",
   "metadata": {},
   "outputs": [
    {
     "data": {
      "text/plain": [
       "False"
      ]
     },
     "execution_count": 12,
     "metadata": {},
     "output_type": "execute_result"
    }
   ],
   "source": [
    "free_space(test_board, 2)"
   ]
  },
  {
   "cell_type": "code",
   "execution_count": 9,
   "id": "e7b9656b",
   "metadata": {},
   "outputs": [],
   "source": [
    "# DA LI IMA SLOBODNOG POLJA NA TABLI\n",
    "def full_board_check(board):\n",
    "    for i in range(1,10):\n",
    "        if free_space(board,i):\n",
    "            return False\n",
    "    return True\n",
    "            \n",
    "            "
   ]
  },
  {
   "cell_type": "code",
   "execution_count": 14,
   "id": "cd064508",
   "metadata": {},
   "outputs": [
    {
     "data": {
      "text/plain": [
       "True"
      ]
     },
     "execution_count": 14,
     "metadata": {},
     "output_type": "execute_result"
    }
   ],
   "source": [
    "full_board_check(test_board)"
   ]
  },
  {
   "cell_type": "code",
   "execution_count": 10,
   "id": "c966a8e8",
   "metadata": {},
   "outputs": [],
   "source": [
    "# IGRAC BIRA POZICIJU\n",
    "def player_choice(board):\n",
    "    position = 0\n",
    "    \n",
    "    while position not in [1,2,3,4,5,6,7,8,9] or not free_space(board,position):\n",
    "        position = int(input('Choose your position (1-9): '))\n",
    "        \n",
    "    return position"
   ]
  },
  {
   "cell_type": "code",
   "execution_count": 36,
   "id": "b6cff85c",
   "metadata": {},
   "outputs": [
    {
     "name": "stdout",
     "output_type": "stream",
     "text": [
      "Choose your position (1-9): 4\n"
     ]
    },
    {
     "data": {
      "text/plain": [
       "4"
      ]
     },
     "execution_count": 36,
     "metadata": {},
     "output_type": "execute_result"
    }
   ],
   "source": [
    "player_choice(test_board)\n"
   ]
  },
  {
   "cell_type": "code",
   "execution_count": 11,
   "id": "a0460380",
   "metadata": {},
   "outputs": [],
   "source": [
    "# DA LI HOCE JOS JEDNOM DA IGRA\n",
    "def want_to_play():\n",
    "    \n",
    "    choice = input(\"Do you want to play again? Yes or no \")\n",
    "    \n",
    "    if choice.upper() == 'YES':\n",
    "        return True\n",
    "    else:\n",
    "        return False"
   ]
  },
  {
   "cell_type": "code",
   "execution_count": 18,
   "id": "09c740ad",
   "metadata": {},
   "outputs": [
    {
     "name": "stdout",
     "output_type": "stream",
     "text": [
      "Do you want to play again? Yes or no yes\n"
     ]
    },
    {
     "data": {
      "text/plain": [
       "True"
      ]
     },
     "execution_count": 18,
     "metadata": {},
     "output_type": "execute_result"
    }
   ],
   "source": [
    "want_to_play()\n"
   ]
  },
  {
   "cell_type": "code",
   "execution_count": 13,
   "id": "1cf26ec1",
   "metadata": {},
   "outputs": [
    {
     "name": "stdout",
     "output_type": "stream",
     "text": [
      "O|X|O\n",
      " |X| \n",
      "X|X|O\n",
      "Player 1 has won!\n",
      "Do you want to play again? Yes or no no\n"
     ]
    }
   ],
   "source": [
    "# IGRAJ!\n",
    "print('Welcome to X/O')\n",
    "\n",
    "while True:\n",
    "    the_board = [' ']*10\n",
    "    player1_marker, player2_marker = player_input()\n",
    "    turn = who_goes_1st()\n",
    "    print(turn + ' goes first')\n",
    "    \n",
    "    play_game = input('Are you ready to play? Enter Yes or No.')\n",
    "    if play_game.lower()[0] == 'y':\n",
    "        game_on = True\n",
    "    else:\n",
    "        game_on = False\n",
    "        \n",
    "    while game_on:\n",
    "        if turn == 'Player 1':\n",
    "            play_board(the_board)\n",
    "            position = player_choice(the_board)\n",
    "            place_marker(the_board, player1_marker, position)\n",
    "            \n",
    "            if win_check(the_board, player1_marker):\n",
    "                play_board(the_board)\n",
    "                print('Player 1 has won!')\n",
    "                game_on = False\n",
    "            \n",
    "            else:    \n",
    "                if full_board_check(the_board):\n",
    "                    play_board(the_board)\n",
    "                    print(\"It's a tie!\")\n",
    "                    game_on = False\n",
    "                else:\n",
    "                    turn = 'Player 2'\n",
    "                    \n",
    "                    \n",
    "        else:\n",
    "            play_board(the_board)\n",
    "            position = player_choice(the_board)\n",
    "            place_marker(the_board, player2_marker, position)\n",
    "            \n",
    "            if win_check(the_board, player2_marker):\n",
    "                play_board(the_board)\n",
    "                print('Player 2 has won!')\n",
    "                game_on = False\n",
    "            \n",
    "            else:    \n",
    "                if full_board_check(the_board):\n",
    "                    play_board(the_board)\n",
    "                    print(\"It's a tie!\")\n",
    "                    game_on = False\n",
    "                else:\n",
    "                    turn = 'Player 1'\n",
    "                        \n",
    "                        \n",
    "    if not want_to_play():\n",
    "        break"
   ]
  },
  {
   "cell_type": "code",
   "execution_count": null,
   "id": "0513255d",
   "metadata": {
    "collapsed": true
   },
   "outputs": [],
   "source": []
  },
  {
   "cell_type": "code",
   "execution_count": null,
   "id": "69887d87",
   "metadata": {},
   "outputs": [],
   "source": []
  }
 ],
 "metadata": {
  "kernelspec": {
   "display_name": "Python 3",
   "language": "python",
   "name": "python3"
  },
  "language_info": {
   "codemirror_mode": {
    "name": "ipython",
    "version": 3
   },
   "file_extension": ".py",
   "mimetype": "text/x-python",
   "name": "python",
   "nbconvert_exporter": "python",
   "pygments_lexer": "ipython3",
   "version": "3.8.8"
  }
 },
 "nbformat": 4,
 "nbformat_minor": 5
}
